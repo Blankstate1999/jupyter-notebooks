{
 "cells": [
  {
   "cell_type": "raw",
   "id": "b457b36d",
   "metadata": {},
   "source": [
    "import pandas as pd\n",
    "\n",
    "# df = pd.read_csv(r\"C:\\Users\\leeme\\pokemon_data.csv.txt\")"
   ]
  },
  {
   "cell_type": "code",
   "execution_count": 1,
   "id": "7a1f6c9c",
   "metadata": {},
   "outputs": [
    {
     "ename": "NameError",
     "evalue": "name 'df' is not defined",
     "output_type": "error",
     "traceback": [
      "\u001b[1;31m---------------------------------------------------------------------------\u001b[0m",
      "\u001b[1;31mNameError\u001b[0m                                 Traceback (most recent call last)",
      "\u001b[1;32m<ipython-input-1-2a851eda2e88>\u001b[0m in \u001b[0;36m<module>\u001b[1;34m\u001b[0m\n\u001b[1;32m----> 1\u001b[1;33m \u001b[0mprint\u001b[0m\u001b[1;33m(\u001b[0m\u001b[0mdf\u001b[0m\u001b[1;33m)\u001b[0m\u001b[1;33m\u001b[0m\u001b[1;33m\u001b[0m\u001b[0m\n\u001b[0m",
      "\u001b[1;31mNameError\u001b[0m: name 'df' is not defined"
     ]
    }
   ],
   "source": [
    "print(df)"
   ]
  },
  {
   "cell_type": "code",
   "execution_count": 2,
   "id": "4ae9c06a",
   "metadata": {},
   "outputs": [],
   "source": [
    "# print(df.head(3))"
   ]
  },
  {
   "cell_type": "code",
   "execution_count": 3,
   "id": "4f0571e4",
   "metadata": {},
   "outputs": [],
   "source": [
    "## Read headers\n",
    "#df.columns\n",
    "\n",
    "## Read each column\n",
    "#print(df['Name', 'Type 1', 'HP'])\n",
    "\n",
    "## Read each row\n",
    "#print(df.iloc[0:4])\n",
    "#for index, row in df.iterrows():\n",
    "#    print(index, row['Name'])\n",
    "#df.loc[df['Type 1'] == \"Fire\"]\n",
    "\n",
    "## Read a specific location\n",
    "#print(df.iloc[2,1])\n",
    "\n",
    "#df.describe()\n",
    "#df.sort_values(['Type 1', 'HP'], ascending=[1,0])"
   ]
  },
  {
   "cell_type": "code",
   "execution_count": null,
   "id": "85a274cc",
   "metadata": {},
   "outputs": [],
   "source": []
  },
  {
   "cell_type": "code",
   "execution_count": null,
   "id": "a3a14eb7",
   "metadata": {},
   "outputs": [],
   "source": []
  },
  {
   "cell_type": "code",
   "execution_count": null,
   "id": "d0e9b6d7",
   "metadata": {},
   "outputs": [],
   "source": []
  }
 ],
 "metadata": {
  "kernelspec": {
   "display_name": "Python 3",
   "language": "python",
   "name": "python3"
  },
  "language_info": {
   "codemirror_mode": {
    "name": "ipython",
    "version": 3
   },
   "file_extension": ".py",
   "mimetype": "text/x-python",
   "name": "python",
   "nbconvert_exporter": "python",
   "pygments_lexer": "ipython3",
   "version": "3.8.8"
  }
 },
 "nbformat": 4,
 "nbformat_minor": 5
}
